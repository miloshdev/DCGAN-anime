{
 "cells": [
  {
   "cell_type": "code",
   "execution_count": null,
   "metadata": {},
   "outputs": [],
   "source": [
    "import sys\n",
    "import os\n",
    "\n",
    "import numpy as np\n",
    "\n",
    "from tqdm import tqdm\n",
    "\n",
    "import matplotlib.pyplot as plt\n",
    "from PIL import Image\n",
    "\n",
    "from keras.models import Model, Sequential\n",
    "from keras.layers import Dense, Reshape, UpSampling2D, Conv2D, BatchNormalization, \\\n",
    "Activation, Input, LeakyReLU, Dropout, ZeroPadding2D, Flatten\n",
    "from keras.optimizers import Adam"
   ]
  },
  {
   "cell_type": "code",
   "execution_count": null,
   "metadata": {
    "colab": {
     "base_uri": "https://localhost:8080/",
     "height": 1000
    },
    "colab_type": "code",
    "id": "rmXDaq24fRqq",
    "outputId": "9cfe1c5e-8de8-40ac-d907-6391f5bb1984"
   },
   "outputs": [],
   "source": [
    "!unzip data.zip"
   ]
  },
  {
   "cell_type": "code",
   "execution_count": null,
   "metadata": {
    "colab": {
     "base_uri": "https://localhost:8080/",
     "height": 187
    },
    "colab_type": "code",
    "id": "6LbJEksTgR7p",
    "outputId": "7ad116bc-1506-4d2e-d3d9-33a7ca802854"
   },
   "outputs": [],
   "source": [
    "!ls data | head"
   ]
  },
  {
   "cell_type": "code",
   "execution_count": null,
   "metadata": {
    "colab": {},
    "colab_type": "code",
    "id": "cpgWhZ0XgcXU"
   },
   "outputs": [],
   "source": [
    "imgs = os.listdir('data')"
   ]
  },
  {
   "cell_type": "code",
   "execution_count": null,
   "metadata": {
    "colab": {},
    "colab_type": "code",
    "id": "it-SCeRBguWd"
   },
   "outputs": [],
   "source": [
    "n_instances = len(imgs)"
   ]
  },
  {
   "cell_type": "code",
   "execution_count": null,
   "metadata": {
    "colab": {
     "base_uri": "https://localhost:8080/",
     "height": 34
    },
    "colab_type": "code",
    "id": "s5dESRQ1gyf4",
    "outputId": "ebcf4d15-cc6c-45f5-9615-f92b8d091419"
   },
   "outputs": [],
   "source": [
    "n_instances"
   ]
  },
  {
   "cell_type": "code",
   "execution_count": null,
   "metadata": {
    "colab": {},
    "colab_type": "code",
    "id": "qO0Dl8HBgza4"
   },
   "outputs": [],
   "source": [
    "index = np.random.randint(low=0, high=n_instances)\n",
    "img_path = os.path.join('data', imgs[index])"
   ]
  },
  {
   "cell_type": "code",
   "execution_count": null,
   "metadata": {
    "colab": {},
    "colab_type": "code",
    "id": "j7-9-GWIhXpC"
   },
   "outputs": [],
   "source": [
    "img = Image.open(img_path)"
   ]
  },
  {
   "cell_type": "code",
   "execution_count": null,
   "metadata": {
    "colab": {
     "base_uri": "https://localhost:8080/",
     "height": 81
    },
    "colab_type": "code",
    "id": "TpPaHg_tqL7w",
    "outputId": "44f92623-82da-4787-fc43-8cce8a1426a6"
   },
   "outputs": [],
   "source": [
    "img"
   ]
  },
  {
   "cell_type": "code",
   "execution_count": null,
   "metadata": {
    "colab": {},
    "colab_type": "code",
    "id": "02eUHYqmhYlP"
   },
   "outputs": [],
   "source": [
    "img_rows, img_cols = img.size"
   ]
  },
  {
   "cell_type": "code",
   "execution_count": null,
   "metadata": {
    "colab": {},
    "colab_type": "code",
    "id": "Cb1PTBUUi-2J"
   },
   "outputs": [],
   "source": [
    "X_train = np.zeros((n_instances, img_rows, img_cols, 3))"
   ]
  },
  {
   "cell_type": "code",
   "execution_count": null,
   "metadata": {
    "colab": {
     "base_uri": "https://localhost:8080/",
     "height": 34
    },
    "colab_type": "code",
    "id": "2yz6x3TBjvYz",
    "outputId": "b428d07d-be59-47c2-9c14-a64ea0d61d0e"
   },
   "outputs": [],
   "source": [
    "for i, img_name in tqdm(enumerate(imgs), total=n_instances):\n",
    "  img_path = os.path.join('data', img_name)\n",
    "  pil_image = Image.open(img_path)\n",
    "  X_train[i] = np.array(pil_image)"
   ]
  },
  {
   "cell_type": "code",
   "execution_count": null,
   "metadata": {
    "colab": {
     "base_uri": "https://localhost:8080/",
     "height": 34
    },
    "colab_type": "code",
    "id": "1QCANBXckEmc",
    "outputId": "8aaf72a5-320f-4bd5-846d-48a7846efb43"
   },
   "outputs": [],
   "source": [
    "X_train.shape"
   ]
  },
  {
   "cell_type": "code",
   "execution_count": null,
   "metadata": {
    "colab": {},
    "colab_type": "code",
    "id": "z32AkmGPls3j"
   },
   "outputs": [],
   "source": [
    "class DCGAN():\n",
    "  def __init__(self, img_rows, img_cols, channels, latent_dim):\n",
    "    self.img_rows = img_rows\n",
    "    self.img_cols= img_cols\n",
    "    self.channels = channels\n",
    "    self.img_shape = (img_rows, img_cols, channels)\n",
    "\n",
    "    self.latent_dim = latent_dim\n",
    "\n",
    "    self.discriminator = self.build_discriminator()\n",
    "    self.discriminator.compile(loss='binary_crossentropy', optimizer=Adam(0.0002, 0.5), metrics=['accuracy'])\n",
    "\n",
    "    self.discriminator.trainable = False\n",
    "    self.generator = self.build_generator()\n",
    "\n",
    "    input = Input(shape=(self.latent_dim,))\n",
    "    generated_img = self.generator(input)\n",
    "    is_valid_img = self.discriminator(generated_img)\n",
    "\n",
    "    self.combined = Model(input, is_valid_img)\n",
    "    self.combined.compile(loss='binary_crossentropy', optimizer=Adam(0.0002, 0.5))\n",
    "\n",
    "  def build_generator(self, show_model_summary=True):\n",
    "    model = Sequential()\n",
    "    model.add(Dense(128 * 16 * 16, activation='relu', input_dim=self.latent_dim))\n",
    "    model.add(Reshape((16, 16, 128)))\n",
    "    model.add(UpSampling2D())\n",
    "    model.add(Conv2D(128, kernel_size=3, padding='same'))\n",
    "    model.add(BatchNormalization(momentum=0.8))\n",
    "    model.add(Activation('relu'))\n",
    "    model.add(UpSampling2D())\n",
    "    model.add(Conv2D(64, kernel_size=3, padding='same'))\n",
    "    model.add(BatchNormalization(momentum=0.8))\n",
    "    model.add(Activation('relu'))\n",
    "    model.add(Conv2D(self.channels, kernel_size=3, padding='same'))\n",
    "    model.add(Activation('tanh'))\n",
    "\n",
    "    if show_model_summary:\n",
    "      print('Generator summary: ')\n",
    "      model.summary()\n",
    "\n",
    "    input = Input(shape=(self.latent_dim,))\n",
    "    output = model(input)\n",
    "\n",
    "    return Model(input, output)\n",
    "\n",
    "  def build_discriminator(self, show_model_summary=True):\n",
    "    model = Sequential()\n",
    "    model.add(Conv2D(32, kernel_size=3, strides=2, padding='same', input_shape=self.img_shape))\n",
    "    model.add(LeakyReLU(alpha=0.2))\n",
    "    model.add(Dropout(0.25))\n",
    "    model.add(Conv2D(64, kernel_size=3, strides=2, padding='same'))\n",
    "    model.add(ZeroPadding2D(padding=((0, 1), (0, 1))))\n",
    "    model.add(BatchNormalization(momentum=0.8))\n",
    "    model.add(LeakyReLU(alpha=0.2))\n",
    "    model.add(Dropout(0.25))\n",
    "    model.add(Conv2D(128, kernel_size=3, strides=2, padding='same'))\n",
    "    model.add(BatchNormalization(momentum=0.8))\n",
    "    model.add(LeakyReLU(alpha=0.2))\n",
    "    model.add(Dropout(0.25))\n",
    "    model.add(Conv2D(256, kernel_size=3, strides=1, padding='same'))\n",
    "    model.add(BatchNormalization(momentum=0.8))\n",
    "    model.add(LeakyReLU(alpha=0.2))\n",
    "    model.add(Dropout(0.25))\n",
    "    model.add(Flatten())\n",
    "    model.add(Dense(1, activation='sigmoid'))\n",
    "\n",
    "    if show_model_summary:\n",
    "      print('Discriminator summary:')\n",
    "      model.summary()\n",
    "\n",
    "    input = Input(shape=self.img_shape)\n",
    "    output = model(input)\n",
    "\n",
    "    return Model(input, output)\n",
    "\n",
    "  def train(self, X_train, epochs, batch_size=128, save_interval=50):\n",
    "    X_train = X_train / 127.5 - 1\n",
    "\n",
    "    y_real = np.ones((batch_size,))\n",
    "    y_fake = np.zeros((batch_size,))\n",
    "\n",
    "    g_losses = []\n",
    "    d_losses = []\n",
    "    d_accs = []\n",
    "\n",
    "    for epoch in tqdm(range(epochs)):\n",
    "      idx = np.random.randint(0, X_train.shape[0], batch_size)\n",
    "      real_imgs_input = X_train[idx]\n",
    "\n",
    "      noise = np.random.normal(0, 1, (batch_size, self.latent_dim))\n",
    "      fake_imgs_input = self.generator.predict(noise)\n",
    "\n",
    "      d_loss_real = self.discriminator.train_on_batch(real_imgs_input, y_real)\n",
    "      d_loss_fake = self.discriminator.train_on_batch(fake_imgs_input, y_fake)\n",
    "\n",
    "      d_loss = np.add(d_loss_real, d_loss_fake) * 0.5\n",
    "      d_losses.append(d_loss[0])\n",
    "      d_accs.append(d_loss[1])\n",
    "\n",
    "      g_loss = self.combined.train_on_batch(noise, y_real)\n",
    "      \n",
    "      g_losses.append(g_loss)\n",
    "\n",
    "      if epoch % save_interval == 0:\n",
    "        self.save_images(epoch)\n",
    "\n",
    "    return g_losses, d_losses, d_accs\n",
    "  \n",
    "  def generate_image(self, input):\n",
    "    gen_img = self.generator.predict(input)\n",
    "    gen_img = gen_img * 0.5 + 0.5\n",
    "    return gen_img\n",
    "  \n",
    "  def save_images(self, epoch):\n",
    "    r, c = 5, 5\n",
    "\n",
    "    noise = np.random.normal(0, 1, (r * c, self.latent_dim))\n",
    "    gen_imgs = self.generate_image(noise)\n",
    "\n",
    "    fig, axs = plt.subplots(r, c)\n",
    "    cnt = 0\n",
    "    for i in range(r):\n",
    "      for j in range(c):\n",
    "        axs[i, j].imshow(gen_imgs[cnt])\n",
    "        axs[i, j].axis('off')\n",
    "        cnt += 1\n",
    "    fig.savefig('generated/anime_%d.png' % epoch)\n",
    "    plt.close()"
   ]
  },
  {
   "cell_type": "code",
   "execution_count": null,
   "metadata": {
    "colab": {
     "base_uri": "https://localhost:8080/",
     "height": 1000
    },
    "colab_type": "code",
    "id": "TD1AwA6krf3V",
    "outputId": "6f287d08-a2bb-4565-9e64-b36f23e45b99"
   },
   "outputs": [],
   "source": [
    "channels = 3\n",
    "latent_dim = 100\n",
    "dcgan = DCGAN(img_rows, img_cols, channels, latent_dim)"
   ]
  },
  {
   "cell_type": "code",
   "execution_count": null,
   "metadata": {
    "colab": {
     "base_uri": "https://localhost:8080/",
     "height": 34
    },
    "colab_type": "code",
    "id": "qyZOEywYCbX4",
    "outputId": "a0b8ff65-ac04-4941-ba5b-37cd8029ea06"
   },
   "outputs": [],
   "source": [
    "!mkdir generated"
   ]
  },
  {
   "cell_type": "code",
   "execution_count": null,
   "metadata": {
    "colab": {
     "base_uri": "https://localhost:8080/",
     "height": 1000
    },
    "colab_type": "code",
    "id": "oW0L8PF9zg4k",
    "outputId": "8b67de05-f433-415f-b338-0639bbda7a5e"
   },
   "outputs": [],
   "source": [
    "epochs = 5001\n",
    "batch_size = 32\n",
    "save_interval = 50\n",
    "\n",
    "g_losses, d_losses, d_accs = dcgan.train(X_train, epochs, batch_size, save_interval)"
   ]
  },
  {
   "cell_type": "code",
   "execution_count": null,
   "metadata": {
    "colab": {},
    "colab_type": "code",
    "id": "AWDS33n21u9E"
   },
   "outputs": [],
   "source": [
    "generated_imgs = os.listdir('generated')"
   ]
  },
  {
   "cell_type": "code",
   "execution_count": null,
   "metadata": {
    "colab": {
     "base_uri": "https://localhost:8080/",
     "height": 305
    },
    "colab_type": "code",
    "id": "xafK59lCBB-I",
    "outputId": "89ac248a-61ad-4870-ffb2-9b11723224d1"
   },
   "outputs": [],
   "source": [
    "#Image.open(os.path.join('generated', generated_imgs[np.random.randint(0, len(generated_imgs))]))\n",
    "Image.open(os.path.join('generated', generated_imgs[len(generated_imgs) - 1]))"
   ]
  },
  {
   "cell_type": "code",
   "execution_count": null,
   "metadata": {
    "colab": {},
    "colab_type": "code",
    "id": "8nGdyFbiBdgP"
   },
   "outputs": [],
   "source": [
    "def show_loss(g_losses, d_losses):\n",
    "  plt.figure(figsize=(20, 10))\n",
    "  plt.plot(range(epochs), g_losses, label='Generator loss')\n",
    "  plt.plot(range(epochs), d_losses, label='Discriminator loss')\n",
    "  plt.xlabel('Epoch')\n",
    "  plt.ylabel('Loss')\n",
    "  plt.legend(loc='best')\n",
    "\n",
    "def show_accuracy(d_accs):\n",
    "  plt.figure(figsize=(20, 10))\n",
    "  plt.plot(range(epochs), d_accs, label='Discriminator accuracy')\n",
    "  plt.xlabel('Epoch')\n",
    "  plt.ylabel('Accuracy')\n",
    "  plt.legend(loc='best')"
   ]
  },
  {
   "cell_type": "code",
   "execution_count": null,
   "metadata": {
    "colab": {
     "base_uri": "https://localhost:8080/",
     "height": 606
    },
    "colab_type": "code",
    "id": "BoSye7Z_Hy0f",
    "outputId": "a9d21b3e-c167-47e0-e983-855dc0216a69"
   },
   "outputs": [],
   "source": [
    "show_loss(g_losses, d_losses)"
   ]
  },
  {
   "cell_type": "code",
   "execution_count": null,
   "metadata": {
    "colab": {},
    "colab_type": "code",
    "id": "IqRBxYtlK9mN"
   },
   "outputs": [],
   "source": [
    "show_accuracy(d_accs)"
   ]
  }
 ],
 "metadata": {
  "accelerator": "GPU",
  "colab": {
   "name": "DCGAN.ipynb",
   "provenance": []
  },
  "kernelspec": {
   "display_name": "Python 3",
   "language": "python",
   "name": "python3"
  },
  "language_info": {
   "codemirror_mode": {
    "name": "ipython",
    "version": 3
   },
   "file_extension": ".py",
   "mimetype": "text/x-python",
   "name": "python",
   "nbconvert_exporter": "python",
   "pygments_lexer": "ipython3",
   "version": "3.7.4"
  }
 },
 "nbformat": 4,
 "nbformat_minor": 1
}
